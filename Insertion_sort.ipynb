{
  "nbformat": 4,
  "nbformat_minor": 0,
  "metadata": {
    "colab": {
      "provenance": [],
      "authorship_tag": "ABX9TyM1C1knemSB0N64dr0aMjSC",
      "include_colab_link": true
    },
    "kernelspec": {
      "name": "python3",
      "display_name": "Python 3"
    },
    "language_info": {
      "name": "python"
    }
  },
  "cells": [
    {
      "cell_type": "markdown",
      "metadata": {
        "id": "view-in-github",
        "colab_type": "text"
      },
      "source": [
        "<a href=\"https://colab.research.google.com/github/LoveyThePigeon/Algorithms/blob/main/Insertion_sort.ipynb\" target=\"_parent\"><img src=\"https://colab.research.google.com/assets/colab-badge.svg\" alt=\"Open In Colab\"/></a>"
      ]
    },
    {
      "cell_type": "code",
      "source": [
        "def insertion_sort(arr):\n",
        "    n = len(arr)\n",
        "    for i in range(1, n):\n",
        "        for k in range(i, 0, -1):\n",
        "            if arr[k] < arr[k - 1]:\n",
        "                # Swap if the current element is smaller than the previous\n",
        "                arr[k], arr[k - 1] = arr[k - 1], arr[k]\n",
        "                # Print the array after each swap\n",
        "                print(\"Step:\", arr)\n",
        "            else:\n",
        "                # If no swap needed, break early\n",
        "                break\n",
        "    return arr\n",
        "\n",
        "# Example usage\n",
        "my_list = [12, 17, 13, 5, 6, 1]\n",
        "print(\"Initial array:\", my_list)\n",
        "insertion_sort(my_list)\n",
        "print(\"Sorted array:\", my_list)\n"
      ],
      "metadata": {
        "colab": {
          "base_uri": "https://localhost:8080/"
        },
        "id": "UQ91QW180Bcn",
        "outputId": "f1afb513-7f20-48c7-ab42-1495d88f4447"
      },
      "execution_count": 6,
      "outputs": [
        {
          "output_type": "stream",
          "name": "stdout",
          "text": [
            "Initial array: [12, 17, 13, 5, 6, 1]\n",
            "Step: [12, 13, 17, 5, 6, 1]\n",
            "Step: [12, 13, 5, 17, 6, 1]\n",
            "Step: [12, 5, 13, 17, 6, 1]\n",
            "Step: [5, 12, 13, 17, 6, 1]\n",
            "Step: [5, 12, 13, 6, 17, 1]\n",
            "Step: [5, 12, 6, 13, 17, 1]\n",
            "Step: [5, 6, 12, 13, 17, 1]\n",
            "Step: [5, 6, 12, 13, 1, 17]\n",
            "Step: [5, 6, 12, 1, 13, 17]\n",
            "Step: [5, 6, 1, 12, 13, 17]\n",
            "Step: [5, 1, 6, 12, 13, 17]\n",
            "Step: [1, 5, 6, 12, 13, 17]\n",
            "Sorted array: [1, 5, 6, 12, 13, 17]\n"
          ]
        }
      ]
    }
  ]
}