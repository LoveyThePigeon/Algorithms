{
  "nbformat": 4,
  "nbformat_minor": 0,
  "metadata": {
    "colab": {
      "provenance": [],
      "authorship_tag": "ABX9TyOMmFVFS9zjfgY8Novj1ULr",
      "include_colab_link": true
    },
    "kernelspec": {
      "name": "python3",
      "display_name": "Python 3"
    },
    "language_info": {
      "name": "python"
    }
  },
  "cells": [
    {
      "cell_type": "markdown",
      "metadata": {
        "id": "view-in-github",
        "colab_type": "text"
      },
      "source": [
        "<a href=\"https://colab.research.google.com/github/LoveyThePigeon/Algorithms/blob/main/Insertion_sort.ipynb\" target=\"_parent\"><img src=\"https://colab.research.google.com/assets/colab-badge.svg\" alt=\"Open In Colab\"/></a>"
      ]
    },
    {
      "cell_type": "code",
      "execution_count": 4,
      "metadata": {
        "colab": {
          "base_uri": "https://localhost:8080/"
        },
        "id": "jlvb6q2D5FB-",
        "outputId": "55404000-876c-4683-ef41-6b22cac94f97"
      },
      "outputs": [
        {
          "output_type": "stream",
          "name": "stdout",
          "text": [
            "Start: [12, 11, 13, 5, 6]\n",
            "Step: [11, 12, 13, 5, 6]\n",
            "Step: [11, 12, 13, 5, 6]\n",
            "Step: [5, 11, 12, 13, 6]\n",
            "Step: [5, 6, 11, 12, 13]\n",
            "Sorted: [5, 6, 11, 12, 13]\n"
          ]
        }
      ],
      "source": [
        "def insertion_sort(arr, verbose=True):\n",
        "    \"\"\"\n",
        "    Sorts an array in ascending order using the Insertion Sort algorithm.\n",
        "\n",
        "    Args:\n",
        "        arr (list): The list of elements to be sorted (in place).\n",
        "        verbose (bool): If True, prints the array after each insertion step.\n",
        "    \"\"\"\n",
        "    if verbose:\n",
        "        print(\"Start:\", arr)\n",
        "\n",
        "    # Traverse from the second element to the end of the list\n",
        "    for i in range(1, len(arr)):\n",
        "        key = arr[i]      # Current element to insert\n",
        "        j = i - 1         # Index of the previous element\n",
        "\n",
        "        # Move elements greater than key one position ahead\n",
        "        while j >= 0 and arr[j] > key:\n",
        "            arr[j + 1] = arr[j]\n",
        "            j -= 1\n",
        "\n",
        "        # Insert the key into its correct position\n",
        "        arr[j + 1] = key\n",
        "\n",
        "        # Print the array after each insertion step\n",
        "        if verbose:\n",
        "            print(\"Step:\", arr)\n",
        "\n",
        "    # Print the final sorted array\n",
        "    if verbose:\n",
        "        print(\"Sorted:\", arr)\n",
        "\n",
        "\n",
        "\n",
        "\n",
        "my_list = [12, 11, 13, 5, 6]\n",
        "insertion_sort(my_list)\n"
      ]
    }
  ]
}