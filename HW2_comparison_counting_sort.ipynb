{
  "nbformat": 4,
  "nbformat_minor": 0,
  "metadata": {
    "colab": {
      "provenance": [],
      "authorship_tag": "ABX9TyM/wlluA6qpW6TOs0CMokAZ",
      "include_colab_link": true
    },
    "kernelspec": {
      "name": "python3",
      "display_name": "Python 3"
    },
    "language_info": {
      "name": "python"
    }
  },
  "cells": [
    {
      "cell_type": "markdown",
      "metadata": {
        "id": "view-in-github",
        "colab_type": "text"
      },
      "source": [
        "<a href=\"https://colab.research.google.com/github/LoveyThePigeon/Algorithms/blob/main/HW2_comparison_counting_sort.ipynb\" target=\"_parent\"><img src=\"https://colab.research.google.com/assets/colab-badge.svg\" alt=\"Open In Colab\"/></a>"
      ]
    },
    {
      "cell_type": "code",
      "execution_count": 2,
      "metadata": {
        "colab": {
          "base_uri": "https://localhost:8080/",
          "height": 0
        },
        "id": "A7Zuj59fO5A7",
        "outputId": "f351da85-f775-4ac3-8253-156d51f67112"
      },
      "outputs": [
        {
          "output_type": "stream",
          "name": "stdout",
          "text": [
            "Original: [60, 35, 81, 98, 14, 47]\n",
            "Counts: [3, 1, 4, 5, 0, 2]\n",
            "Sorted: [14, 35, 47, 60, 81, 98]\n"
          ]
        }
      ],
      "source": [
        "def comparison_counting_sort(A):\n",
        "  n=len(A)\n",
        "  Count=[0]*n\n",
        "  S = [0]*n\n",
        "\n",
        "  for i in range(n-1):\n",
        "    for j in range(i+1,n):\n",
        "      if A[i]<A[j]:\n",
        "        Count[j]+=1\n",
        "      else:\n",
        "        Count[i]+=1\n",
        "\n",
        "  for i in range(n):\n",
        "    S[Count[i]]=A[i]\n",
        "  print(\"Counts:\", Count)\n",
        "  return S\n",
        "\n",
        "# Example usage\n",
        "A=[60,35,81,98,14,47]\n",
        "print(\"Original:\", A)\n",
        "print(\"Sorted:\", comparison_counting_sort(A))\n",
        "print(\"\")\n"
      ]
    }
  ]
}