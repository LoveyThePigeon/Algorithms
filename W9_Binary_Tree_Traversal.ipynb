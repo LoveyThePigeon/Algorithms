{
  "nbformat": 4,
  "nbformat_minor": 0,
  "metadata": {
    "colab": {
      "provenance": [],
      "include_colab_link": true
    },
    "kernelspec": {
      "name": "python3",
      "display_name": "Python 3"
    },
    "language_info": {
      "name": "python"
    }
  },
  "cells": [
    {
      "cell_type": "markdown",
      "metadata": {
        "id": "view-in-github",
        "colab_type": "text"
      },
      "source": [
        "<a href=\"https://colab.research.google.com/github/LoveyThePigeon/Algorithms/blob/main/W9_Binary_Tree_Traversal.ipynb\" target=\"_parent\"><img src=\"https://colab.research.google.com/assets/colab-badge.svg\" alt=\"Open In Colab\"/></a>"
      ]
    },
    {
      "cell_type": "code",
      "execution_count": 5,
      "metadata": {
        "colab": {
          "base_uri": "https://localhost:8080/",
          "height": 563
        },
        "id": "O6BR3xXt2rfu",
        "outputId": "5f15db32-351f-4ee4-9dc0-7bf65d66162f"
      },
      "outputs": [
        {
          "output_type": "stream",
          "name": "stdout",
          "text": [
            "In-Order Traversal: \n",
            "1 2 3 4 5 6 7 \n",
            "Pre-Order Traversal: \n",
            "4 2 1 3 6 5 7 \n",
            "Post-Order Traversal: \n",
            "1 3 2 5 7 6 4 "
          ]
        },
        {
          "output_type": "display_data",
          "data": {
            "text/plain": [
              "<Figure size 500x400 with 1 Axes>"
            ],
            "image/png": "[encoded data removed]"
          },
          "metadata": {}
        }
      ],
      "source": [
        "import networkx as nx\n",
        "import matplotlib.pyplot as plt\n",
        "\n",
        "class Node:\n",
        "    def __init__(self, key):\n",
        "        self.left = None\n",
        "        self.right = None\n",
        "        self.val = key\n",
        "\n",
        "# In-Order Traversal\n",
        "def in_order_traversal(root):\n",
        "    if root:\n",
        "        in_order_traversal(root.left)\n",
        "        print(root.val, end=\" \")\n",
        "        in_order_traversal(root.right)\n",
        "\n",
        "# Pre-Order Traversal\n",
        "def pre_order_traversal(root):\n",
        "    if root:\n",
        "        print(root.val, end=\" \")\n",
        "        pre_order_traversal(root.left)\n",
        "        pre_order_traversal(root.right)\n",
        "\n",
        "# Post-Order Traversal\n",
        "def post_order_traversal(root):\n",
        "    if root:\n",
        "        post_order_traversal(root.left)\n",
        "        post_order_traversal(root.right)\n",
        "        print(root.val, end=\" \")\n",
        "\n",
        "# Create the Binary Tree\n",
        "root = Node(4)\n",
        "root.left = Node(2)\n",
        "root.right = Node(6)\n",
        "root.left.left = Node(1)\n",
        "root.left.right = Node(3)\n",
        "root.right.left = Node(5)\n",
        "root.right.right = Node(7)\n",
        "\n",
        "# Print Traversals\n",
        "print(\"In-Order Traversal: \")\n",
        "in_order_traversal(root)\n",
        "\n",
        "print(\"\\nPre-Order Traversal: \")\n",
        "pre_order_traversal(root)\n",
        "\n",
        "print(\"\\nPost-Order Traversal: \")\n",
        "post_order_traversal(root)\n",
        "\n",
        "# Build a graph for visualization\n",
        "G = nx.DiGraph()\n",
        "edges = [\n",
        "    ('4', '2'), ('4', '6'),\n",
        "    ('2', '1'), ('2', '3'),\n",
        "    ('6', '5'), ('6' , '7' )\n",
        "]\n",
        "G.add_edges_from(edges)\n",
        "\n",
        "# Position nodes with a compact layout\n",
        "pos = {\n",
        "    '4': (0, 3),\n",
        "    '2': (-0.8, 2),\n",
        "    '6': (0.8, 2),\n",
        "    '1': (-1, 1),\n",
        "    '3': (-0.6, 1),\n",
        "    '5' : (0.6,1),\n",
        "    '7': (1, 1)\n",
        "}\n",
        "\n",
        "plt.figure(figsize=(5, 4))\n",
        "nx.draw(G, pos, with_labels=True, node_size=1200, node_color=\"lightblue\", font_size=12, font_weight=\"bold\", arrows=False)\n",
        "plt.title(\"Binary Tree Structure\")\n",
        "plt.show()"
      ]
    }
  ]
}