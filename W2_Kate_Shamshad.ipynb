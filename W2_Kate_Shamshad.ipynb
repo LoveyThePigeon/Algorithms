{
  "nbformat": 4,
  "nbformat_minor": 0,
  "metadata": {
    "colab": {
      "provenance": [],
      "authorship_tag": "ABX9TyO9YnZKgcznoTsV4JSGCu3m",
      "include_colab_link": true
    },
    "kernelspec": {
      "name": "python3",
      "display_name": "Python 3"
    },
    "language_info": {
      "name": "python"
    }
  },
  "cells": [
    {
      "cell_type": "markdown",
      "metadata": {
        "id": "view-in-github",
        "colab_type": "text"
      },
      "source": [
        "<a href=\"https://colab.research.google.com/github/LoveyThePigeon/CSC-521/blob/main/W2_Kate_Shamshad.ipynb\" target=\"_parent\"><img src=\"https://colab.research.google.com/assets/colab-badge.svg\" alt=\"Open In Colab\"/></a>"
      ]
    },
    {
      "cell_type": "code",
      "execution_count": 19,
      "metadata": {
        "colab": {
          "base_uri": "https://localhost:8080/",
          "height": 0
        },
        "id": "A7Zuj59fO5A7",
        "outputId": "31e6c740-d1dd-4321-fa1c-9cf5aada8a6d"
      },
      "outputs": [
        {
          "output_type": "stream",
          "name": "stdout",
          "text": [
            "Original: [60, 35, 81, 98, 14, 47]\n",
            "Sorted: [14, 35, 47, 60, 81, 98]\n"
          ]
        }
      ],
      "source": [
        "def comparison_counting_sort(A):\n",
        "  n=len(A)\n",
        "  Count=[0]*n\n",
        "  S = [0]*n\n",
        "\n",
        "  for i in range(n-1):\n",
        "    for j in range(i+1,n):\n",
        "      if A[i]<A[j]:\n",
        "        Count[j]+=1\n",
        "      else:\n",
        "        Count[i]+=1\n",
        "\n",
        "  for i in range(n):\n",
        "    S[Count[i]]=A[i]\n",
        "\n",
        "  return S\n",
        "\n",
        "# Example usage\n",
        "A=[60,35,81,98,14,47]\n",
        "print(\"Original:\", A)\n",
        "print(\"Sorted:\", comparison_counting_sort(A))\n"
      ]
    }
  ]
}