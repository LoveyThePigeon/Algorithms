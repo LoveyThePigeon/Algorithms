{
  "nbformat": 4,
  "nbformat_minor": 0,
  "metadata": {
    "colab": {
      "provenance": [],
      "include_colab_link": true
    },
    "kernelspec": {
      "name": "python3",
      "display_name": "Python 3"
    },
    "language_info": {
      "name": "python"
    }
  },
  "cells": [
    {
      "cell_type": "markdown",
      "metadata": {
        "id": "view-in-github",
        "colab_type": "text"
      },
      "source": [
        "<a href=\"https://colab.research.google.com/github/LoveyThePigeon/Algorithms/blob/main/W7_Quick_Sort.ipynb\" target=\"_parent\"><img src=\"https://colab.research.google.com/assets/colab-badge.svg\" alt=\"Open In Colab\"/></a>"
      ]
    },
    {
      "cell_type": "code",
      "execution_count": 2,
      "metadata": {
        "colab": {
          "base_uri": "https://localhost:8080/"
        },
        "id": "OCTkJ_IKRRuR",
        "outputId": "e78dc261-5590-44e8-c173-d957131e3a88"
      },
      "outputs": [
        {
          "output_type": "stream",
          "name": "stdout",
          "text": [
            "Depth 0: [9, 7, 5, 11, 12], Pivot: 12\n",
            "Depth 1: [9, 7, 5, 11], Pivot: 11\n",
            "Depth 2: [9, 7, 5], Pivot: 5\n",
            "Depth 3: [9, 7], Pivot: 7\n",
            "Sorted array: [5, 7, 9, 11, 12]\n",
            "\n",
            "Depth 0: [9, 7, 5, 11, 12, 2, 14, 3, 10, 6], Pivot: 6\n",
            "Depth 1: [5, 2, 3], Pivot: 3\n",
            "Depth 1: [9, 7, 11, 12, 14, 10], Pivot: 10\n",
            "Depth 2: [9, 7], Pivot: 7\n",
            "Depth 2: [11, 12, 14], Pivot: 14\n",
            "Depth 3: [11, 12], Pivot: 12\n",
            "Sorted array: [2, 3, 5, 6, 7, 9, 10, 11, 12, 14]\n",
            "\n",
            "Depth 0: [10, 80, 30, 90, 40, 50, 70], Pivot: 70\n",
            "Depth 1: [10, 30, 40, 50], Pivot: 50\n",
            "Depth 2: [10, 30, 40], Pivot: 40\n",
            "Depth 3: [10, 30], Pivot: 30\n",
            "Depth 1: [80, 90], Pivot: 90\n",
            "Sorted array: [10, 30, 40, 50, 70, 80, 90]\n",
            "\n"
          ]
        }
      ],
      "source": [
        "def quick_sort(arr, depth=0):\n",
        "    # Base case: If the array has 1 or 0 elements, it is already sorted\n",
        "    if len(arr) <= 1:\n",
        "        return arr\n",
        "    else:\n",
        "        # Choosing the last element as the pivot\n",
        "        pivot = arr[-1]\n",
        "        # Elements less than the pivot\n",
        "        left = [x for x in arr[:-1] if x <= pivot]\n",
        "        # Elements greater than the pivot\n",
        "        right = [x for x in arr[:-1] if x > pivot]\n",
        "\n",
        "        # Print the array at the current depth level of recursion\n",
        "        print(f\"Depth {depth}: {arr}, Pivot: {pivot}\")\n",
        "\n",
        "        # Recursively sort left and right, then combine\n",
        "        return quick_sort(left, depth + 1) + [pivot] + quick_sort(right, depth + 1)\n",
        "\n",
        "# Example array\n",
        "arr = [9, 7, 5, 11, 12]\n",
        "arr1 = [9, 7, 5, 11, 12, 2, 14, 3, 10, 6]\n",
        "arr2 = [10, 80, 30, 90, 40, 50, 70]\n",
        "\n",
        "# ARR\n",
        "\n",
        "# Sorting the array using Quick Sort\n",
        "sorted_arr = quick_sort(arr)\n",
        "\n",
        "# Print the final result\n",
        "print(\"Sorted array:\", sorted_arr)\n",
        "print(\"\")\n",
        "\n",
        "# ARR1\n",
        "\n",
        "# Sorting the array using Quick Sort\n",
        "sorted_arr = quick_sort(arr1)\n",
        "\n",
        "# Print the final result\n",
        "print(\"Sorted array:\", sorted_arr)\n",
        "print(\"\")\n",
        "\n",
        "# ARR2\n",
        "\n",
        "# Sorting the array using Quick Sort\n",
        "sorted_arr = quick_sort(arr2)\n",
        "\n",
        "# Print the final result\n",
        "print(\"Sorted array:\", sorted_arr)\n",
        "print(\"\")\n"
      ]
    }
  ]
}