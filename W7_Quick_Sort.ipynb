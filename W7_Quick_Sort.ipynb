{
  "nbformat": 4,
  "nbformat_minor": 0,
  "metadata": {
    "colab": {
      "provenance": [],
      "include_colab_link": true
    },
    "kernelspec": {
      "name": "python3",
      "display_name": "Python 3"
    },
    "language_info": {
      "name": "python"
    }
  },
  "cells": [
    {
      "cell_type": "markdown",
      "metadata": {
        "id": "view-in-github",
        "colab_type": "text"
      },
      "source": [
        "<a href=\"https://colab.research.google.com/github/LoveyThePigeon/Algorithms/blob/main/W7_Quick_Sort.ipynb\" target=\"_parent\"><img src=\"https://colab.research.google.com/assets/colab-badge.svg\" alt=\"Open In Colab\"/></a>"
      ]
    },
    {
      "cell_type": "code",
      "execution_count": 3,
      "metadata": {
        "colab": {
          "base_uri": "https://localhost:8080/"
        },
        "id": "OCTkJ_IKRRuR",
        "outputId": "b78a65fb-e040-4ea6-d776-8bd55ebcbda5"
      },
      "outputs": [
        {
          "output_type": "stream",
          "name": "stdout",
          "text": [
            "Depth 0: [9, 7, 5, 11, 12], Pivot: 12\n",
            "Depth 1: [9, 7, 5, 11], Pivot: 11\n",
            "Depth 2: [9, 7, 5], Pivot: 5\n",
            "Depth 3: [9, 7], Pivot: 7\n",
            "Sorted array: [5, 7, 9, 11, 12]\n",
            "\n",
            "Depth 0: [5, 67, 23, 14, 84], Pivot: 84\n",
            "Depth 1: [5, 67, 23, 14], Pivot: 14\n",
            "Depth 2: [67, 23], Pivot: 23\n",
            "Sorted array: [5, 14, 23, 67, 84]\n",
            "\n",
            "Depth 0: [48, 84, 25, 54, 22, 87], Pivot: 87\n",
            "Depth 1: [48, 84, 25, 54, 22], Pivot: 22\n",
            "Depth 2: [48, 84, 25, 54], Pivot: 54\n",
            "Depth 3: [48, 25], Pivot: 25\n",
            "Sorted array: [22, 25, 48, 54, 84, 87]\n",
            "\n"
          ]
        }
      ],
      "source": [
        "def quick_sort(arr, depth=0):\n",
        "    # Base case: If the array has 1 or 0 elements, it is already sorted\n",
        "    if len(arr) <= 1:\n",
        "        return arr\n",
        "    else:\n",
        "        # Choosing the last element as the pivot\n",
        "        pivot = arr[-1]\n",
        "        # Elements less than the pivot\n",
        "        left = [x for x in arr[:-1] if x <= pivot]\n",
        "        # Elements greater than the pivot\n",
        "        right = [x for x in arr[:-1] if x > pivot]\n",
        "\n",
        "        # Print the array at the current depth level of recursion\n",
        "        print(f\"Depth {depth}: {arr}, Pivot: {pivot}\")\n",
        "\n",
        "        # Recursively sort left and right, then combine\n",
        "        return quick_sort(left, depth + 1) + [pivot] + quick_sort(right, depth + 1)\n",
        "\n",
        "# Example array\n",
        "arr = [9, 7, 5, 11, 12]\n",
        "arr1 = [5, 67, 23, 14, 84]\n",
        "arr2 = [48, 84, 25, 54, 22, 87]\n",
        "\n",
        "# ARR\n",
        "\n",
        "# Sorting the array using Quick Sort\n",
        "sorted_arr = quick_sort(arr)\n",
        "\n",
        "# Print the final result\n",
        "print(\"Sorted array:\", sorted_arr)\n",
        "print(\"\")\n",
        "\n",
        "# ARR1\n",
        "\n",
        "# Sorting the array using Quick Sort\n",
        "sorted_arr = quick_sort(arr1)\n",
        "\n",
        "# Print the final result\n",
        "print(\"Sorted array:\", sorted_arr)\n",
        "print(\"\")\n",
        "\n",
        "# ARR2\n",
        "\n",
        "# Sorting the array using Quick Sort\n",
        "sorted_arr = quick_sort(arr2)\n",
        "\n",
        "# Print the final result\n",
        "print(\"Sorted array:\", sorted_arr)\n",
        "print(\"\")\n"
      ]
    }
  ]
}